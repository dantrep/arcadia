{
 "cells": [
  {
   "cell_type": "markdown",
   "id": "flexible-preparation",
   "metadata": {},
   "source": [
    "# Arcadia Ball Picking ROI Analysis\n",
    "#### Arcadia Tractor\n",
    "#### January 20, 2023"
   ]
  },
  {
   "cell_type": "markdown",
   "id": "thrown-intake",
   "metadata": {},
   "source": [
    "## Background\n",
    "\n",
    "Golf driving ranges are labor intensive operations.  This notebook provides a high level economic analysis of the ROI of using an [Arcadia Tractor](www.arcadiatractor.com) to pick balls on a driving range.  The report sizes up the costs of operating a driving range in the state of **California** using off the shelf equipment and minimum wage labor.  This is then compared to the cost of picking balls using Arcadia's technology.  For reference, the report also examines the import of a $7.00 / hour minimum wage on the ROI analysis."
   ]
  },
  {
   "cell_type": "markdown",
   "id": "preceding-index",
   "metadata": {},
   "source": [
    "## Range Capacity\n",
    "\n",
    "The total **range capacity** is a function of hours of operation and the hours of operation.  Typically, golfers strike one ball every 30 to 45 seconds seconds this results in ~100 balls per bay per hour.  Some driving ranges have lights and allow golfers to practice at night, while others don't. So the capacity is set by the following:\n",
    "\n",
    "$$\n",
    "C = hours \\times bays \\times 100\n",
    "$$"
   ]
  },
  {
   "cell_type": "markdown",
   "id": "satellite-british",
   "metadata": {},
   "source": [
    "## Actual Balls Hit / Day\n",
    "\n",
    "The number of balls hit per day depends largely on the capacity utilization of the driving range.  \n",
    "\n",
    "$$\n",
    "T = C \\times U\n",
    "$$\n",
    "\n",
    "where:\n",
    "\n",
    "$T$ is the total balls hit per day  \n",
    "$C$ is the capacity of the driving range  \n",
    "$U$ is the range utilization (as a fraction)"
   ]
  },
  {
   "cell_type": "markdown",
   "id": "finnish-wallace",
   "metadata": {},
   "source": [
    "### Sample Calculation\n",
    "\n",
    "Let's evaluate the capacity for a driving range with:\n",
    "\n",
    "- 12 hours of operation, and  \n",
    "- 50 bays \n"
   ]
  },
  {
   "cell_type": "code",
   "execution_count": 1,
   "id": "sunrise-norfolk",
   "metadata": {},
   "outputs": [
    {
     "data": {
      "text/plain": [
       "60000"
      ]
     },
     "execution_count": 1,
     "metadata": {},
     "output_type": "execute_result"
    }
   ],
   "source": [
    "C = 12 * 50 * 100\n",
    "C"
   ]
  },
  {
   "cell_type": "markdown",
   "id": "incident-career",
   "metadata": {},
   "source": [
    "## Effort Required\n",
    "\n",
    "A few factors contribute to the ball picking effort:\n",
    "\n",
    "- Average time per trip  \n",
    "- Storage capacity of the ball picker (gangs)  \n",
    "- Speed of the tractor  \n",
    "- Size/configuration of the Range\n",
    "\n",
    "### Average Time Per Trip\n",
    "\n",
    "Depending on the range, the average time per trip can vary.  However, this analysis assumes 25 minutes per trip as a starting point.\n",
    "\n",
    "### Ball Picker Storage Capacity\n",
    "\n",
    "A ball picker's capacity is a function of the number of baskets (usually called gangs) that can hold golf balls.  Smaller driving ranges with 20k / day or fewer balls typically have 3 gang ball pickers while larger capacity ranges will have 5 gangs.\n",
    "\n",
    "### Optimum Driving Speed\n",
    "\n",
    "There is a trade-off between driving speed and the thoroughness of ball picking.  Also, driving fast can lead to more equipment failures.  New operators tend to drive too fast and this often creates additional repair costs.\n",
    "\n",
    "### Size and Range Configuration\n",
    "\n",
    "Depending on the size of the range and where balls get deposited, the effort required to manage the range can vary. For example, if the ball washing occurs far away from where the balls get dispensed, more time is needed to transport balls to the client dispensing area. \n",
    "\n",
    "\n",
    "All of the above considerations can be captured by the following two numbers:\n",
    "- time per trip (in minutes), and  \n",
    "- balls per trip -- which is assumed to be 1,500 / trip for small capacity ranges and 2,500 per trip for high capacity ranges.\n"
   ]
  },
  {
   "cell_type": "code",
   "execution_count": 2,
   "id": "japanese-dance",
   "metadata": {},
   "outputs": [],
   "source": [
    "TIME_PER_TRIP = 25 # minutes\n",
    "\n",
    "def get_hours_of_work(balls_per_day):\n",
    "    if balls_per_day < 20000:\n",
    "        balls_per_trip = 1500\n",
    "    else:\n",
    "        balls_per_trip = 2500\n",
    "    pick_capacity_per_hour = balls_per_trip / ( TIME_PER_TRIP / 60)\n",
    "    return balls_per_day / pick_capacity_per_hour"
   ]
  },
  {
   "cell_type": "markdown",
   "id": "hazardous-deviation",
   "metadata": {},
   "source": [
    "## Tractor & Hardware Cost\n",
    "\n",
    "There are two schools of thought on how to equip a driving range.  Some range operators prefer having relatively new / low-cost equipment.  Others, prefer having older equipment that is fully depreciated from other parts of the golf course operation.  Most high capacity driving ranges also maintain a backup solution to avoid the risk of downtime for the range.\n",
    "\n",
    "### Old / Semi Retired Equipment\n",
    "\n",
    "In this model, the equipment cost is close to 0, but the annual maintenance and repair costs can be high.  Perhaps as much as 500 USD / month excluding the cost of downtime.\n",
    "\n",
    "### New Tractor\n",
    "\n",
    "Here, the operation might purchase a 15k USD tractor with an expected life of 3 years.  A new tractor will not cost very much in maintenance, but it is safe to budget 1,200 USD per year for maintenance.\n",
    "\n",
    "### Other Costs\n",
    "\n",
    "The ball picker costs anywhere from 2k to 5k USD and should be replaced every 3 years.  The cost of operating a diesel engine is 1 gallon per hour."
   ]
  },
  {
   "cell_type": "markdown",
   "id": "joint-cement",
   "metadata": {},
   "source": [
    "## Model Assumption\n",
    "\n",
    "This model assumes the range operates with a new tractor with a 3 year life.  You can easily modify model to refelct different assumptions:"
   ]
  },
  {
   "cell_type": "code",
   "execution_count": 3,
   "id": "published-printer",
   "metadata": {},
   "outputs": [],
   "source": [
    "TRACTOR_COST = 15000 # dollars\n",
    "TRACTOR_LIFE = 3 # years\n",
    "TRACTOR_MAINTENANCE = 1200 # dollars / year\n",
    "INSURANCE = 400 # dollars per year\n",
    "FUEL = 4.00 # dollars per gallon\n",
    "\n",
    "def get_tractor_cost_per_day(hours_worked):\n",
    "    depreciation = (TRACTOR_COST / TRACTOR_LIFE) / 365\n",
    "    other = (TRACTOR_MAINTENANCE + INSURANCE) / 365\n",
    "    fuel = hours_worked * FUEL\n",
    "    return depreciation + other + fuel"
   ]
  },
  {
   "cell_type": "markdown",
   "id": "dietary-digest",
   "metadata": {},
   "source": [
    "## Labor Costs\n",
    "\n",
    "The cost of labor extends beyond the minimum wage.  The [California Minimum Wage](https://www.dds.ca.gov/rc/vendor-provider/minimum-wage/) is 15.00 USD per hour as of January 1, 2022.\n",
    "\n",
    "### Federal Withholdings\n",
    "\n",
    "[Federal withholdings](https://www.adp.com/resources/tools/tax-guides-and-forms/state-and-local-tax-guides/state-tax-guide.aspx) addup to 13% of wages.\n",
    "\n",
    "\n",
    "### State Withholdings\n",
    "\n",
    "In California, [state witholdings](https://edd.ca.gov/pdf_pub_ctr/de44.pdf) add up to 5% of wages.\n",
    "\n",
    "### Workers Compensation / OSHA\n",
    "\n",
    "These costs can be significant but they are ignored for the purpose of this analysis"
   ]
  },
  {
   "cell_type": "code",
   "execution_count": 4,
   "id": "quality-runner",
   "metadata": {},
   "outputs": [],
   "source": [
    "WORKER_WAGE = 15 # dollars / hour\n",
    "CA_WITHHOLDINGS = .05 # rate of wages\n",
    "FEDERAL_WITHHOLDINGS = 0.062 + 0.145 + .06 # Social Security + Medicare + FUTA\n",
    "\n",
    "def get_labor_cost(hours_worked, hourly_rate=15):\n",
    "    worker = hourly_rate * hours_worked * (1 + CA_WITHHOLDINGS + FEDERAL_WITHHOLDINGS)\n",
    "    return worker"
   ]
  },
  {
   "cell_type": "markdown",
   "id": "facial-catalyst",
   "metadata": {},
   "source": [
    "### Management Effort\n",
    "\n",
    "Managing the labor on the driving range is a significant effort.  The management duties range from hiring, firing, scheduling of shifts, training, and supervision.  This analysis assumes one day per week (8 hours / week) of effort to manage the crew of workers.\n",
    "\n",
    "### Absenteism\n",
    "\n",
    "If workers fail to show up at the range, the manager / supervisor is expected to pick balls.  This analysis assumes workers fail to show up 1 day per month.\n"
   ]
  },
  {
   "cell_type": "code",
   "execution_count": 5,
   "id": "critical-cornwall",
   "metadata": {},
   "outputs": [],
   "source": [
    "MGMT_WAGE = 30 # dollars / hour\n",
    "MGMT_EFFORT = 8 # hours per week to perform management duties\n",
    "ABSENTEISM = 1 / 30 # propotion of time missed -- assumes manager picks the balls\n",
    "\n",
    "def get_management_cost(hours_worked):\n",
    "    daily_wages = MGMT_WAGE * MGMT_EFFORT / 7\n",
    "    absent_wages = MGMT_EFFORT * (MGMT_WAGE - WORKER_WAGE) * hours_worked * ABSENTEISM\n",
    "    total_cost = (daily_wages + absent_wages) * (1 + CA_WITHHOLDINGS + FEDERAL_WITHHOLDINGS)\n",
    "    return total_cost"
   ]
  },
  {
   "cell_type": "markdown",
   "id": "useful-canal",
   "metadata": {},
   "source": [
    "## Total Cost\n",
    "\n",
    "This formula compiles the cost of running the driving range from the number of **balls hit per day**.  By working through the assumptions listed above, we compute the hours per day of effort and from there, it is possible to compute:\n",
    "\n",
    "- the tractor cost,\n",
    "- the cost of labor, and\n",
    "- the cost of supervision\n",
    "\n",
    "The model assumes 30 days per month of costs."
   ]
  },
  {
   "cell_type": "code",
   "execution_count": 6,
   "id": "turkish-positive",
   "metadata": {},
   "outputs": [],
   "source": [
    "def get_manual_cost_per_month(balls_per_day, hourly_rate=15):\n",
    "    hours_worked = get_hours_of_work(balls_per_day)\n",
    "    tractor_cost = get_tractor_cost_per_day(hours_worked)\n",
    "    labor_cost = get_labor_cost(hours_worked, hourly_rate)\n",
    "    mgmt_cost = get_management_cost(hours_worked)\n",
    "    return (tractor_cost + labor_cost + mgmt_cost) * 30"
   ]
  },
  {
   "cell_type": "markdown",
   "id": "professional-crisis",
   "metadata": {},
   "source": [
    "## Arcadia Cost\n",
    "\n",
    "Arcadia offers two different tractors which differ in terms of battery capacity and motor horse power.  The light duty tractor can pick 30,000 balls per day and the heavy duty tractor can pick ~70,000 balls per day.  For applications that exceed 70,000 balls per day, it is recommended that customers purchase two heavy duty tractors."
   ]
  },
  {
   "cell_type": "code",
   "execution_count": 7,
   "id": "amino-harvey",
   "metadata": {},
   "outputs": [],
   "source": [
    "def get_arcadia_cost_per_month(balls_per_day):\n",
    "    if balls < 30000:\n",
    "        a_cost = 2000 \n",
    "    else:\n",
    "        a_cost = (int(balls_per_day / 70000) + 1) * 3000\n",
    "    return a_cost"
   ]
  },
  {
   "cell_type": "code",
   "execution_count": 9,
   "id": "involved-comparison",
   "metadata": {},
   "outputs": [],
   "source": [
    "import pandas as pd\n",
    "rpt = []\n",
    "for balls in range(10000,100000,10000):\n",
    "    ca_manual_cost = get_manual_cost_per_month(balls, hourly_rate=15)\n",
    "    usa_manual_cost = get_manual_cost_per_month(balls, hourly_rate=7)\n",
    "    arcadia_cost = get_arcadia_cost_per_month(balls)\n",
    "    r = {'balls': balls,\n",
    "         'ca_manual_cost': ca_manual_cost,\n",
    "         'usa_manual_cost': usa_manual_cost,\n",
    "         'arcadia_cost': arcadia_cost}\n",
    "    rpt += [r]\n",
    "df = pd.DataFrame(rpt)"
   ]
  },
  {
   "cell_type": "code",
   "execution_count": 10,
   "id": "dedicated-original",
   "metadata": {},
   "outputs": [
    {
     "data": {
      "text/html": [
       "<div>\n",
       "<style scoped>\n",
       "    .dataframe tbody tr th:only-of-type {\n",
       "        vertical-align: middle;\n",
       "    }\n",
       "\n",
       "    .dataframe tbody tr th {\n",
       "        vertical-align: top;\n",
       "    }\n",
       "\n",
       "    .dataframe thead th {\n",
       "        text-align: right;\n",
       "    }\n",
       "</style>\n",
       "<table border=\"1\" class=\"dataframe\">\n",
       "  <thead>\n",
       "    <tr style=\"text-align: right;\">\n",
       "      <th></th>\n",
       "      <th>balls</th>\n",
       "      <th>ca_manual_cost</th>\n",
       "      <th>usa_manual_cost</th>\n",
       "      <th>arcadia_cost</th>\n",
       "    </tr>\n",
       "  </thead>\n",
       "  <tbody>\n",
       "    <tr>\n",
       "      <th>0</th>\n",
       "      <td>10000</td>\n",
       "      <td>4315.677658</td>\n",
       "      <td>3437.677658</td>\n",
       "      <td>2000</td>\n",
       "    </tr>\n",
       "    <tr>\n",
       "      <th>1</th>\n",
       "      <td>20000</td>\n",
       "      <td>4799.394325</td>\n",
       "      <td>3745.794325</td>\n",
       "      <td>2000</td>\n",
       "    </tr>\n",
       "    <tr>\n",
       "      <th>2</th>\n",
       "      <td>30000</td>\n",
       "      <td>6250.544325</td>\n",
       "      <td>4670.144325</td>\n",
       "      <td>3000</td>\n",
       "    </tr>\n",
       "    <tr>\n",
       "      <th>3</th>\n",
       "      <td>40000</td>\n",
       "      <td>7701.694325</td>\n",
       "      <td>5594.494325</td>\n",
       "      <td>3000</td>\n",
       "    </tr>\n",
       "    <tr>\n",
       "      <th>4</th>\n",
       "      <td>50000</td>\n",
       "      <td>9152.844325</td>\n",
       "      <td>6518.844325</td>\n",
       "      <td>3000</td>\n",
       "    </tr>\n",
       "    <tr>\n",
       "      <th>5</th>\n",
       "      <td>60000</td>\n",
       "      <td>10603.994325</td>\n",
       "      <td>7443.194325</td>\n",
       "      <td>3000</td>\n",
       "    </tr>\n",
       "    <tr>\n",
       "      <th>6</th>\n",
       "      <td>70000</td>\n",
       "      <td>12055.144325</td>\n",
       "      <td>8367.544325</td>\n",
       "      <td>6000</td>\n",
       "    </tr>\n",
       "    <tr>\n",
       "      <th>7</th>\n",
       "      <td>80000</td>\n",
       "      <td>13506.294325</td>\n",
       "      <td>9291.894325</td>\n",
       "      <td>6000</td>\n",
       "    </tr>\n",
       "    <tr>\n",
       "      <th>8</th>\n",
       "      <td>90000</td>\n",
       "      <td>14957.444325</td>\n",
       "      <td>10216.244325</td>\n",
       "      <td>6000</td>\n",
       "    </tr>\n",
       "  </tbody>\n",
       "</table>\n",
       "</div>"
      ],
      "text/plain": [
       "   balls  ca_manual_cost  usa_manual_cost  arcadia_cost\n",
       "0  10000     4315.677658      3437.677658          2000\n",
       "1  20000     4799.394325      3745.794325          2000\n",
       "2  30000     6250.544325      4670.144325          3000\n",
       "3  40000     7701.694325      5594.494325          3000\n",
       "4  50000     9152.844325      6518.844325          3000\n",
       "5  60000    10603.994325      7443.194325          3000\n",
       "6  70000    12055.144325      8367.544325          6000\n",
       "7  80000    13506.294325      9291.894325          6000\n",
       "8  90000    14957.444325     10216.244325          6000"
      ]
     },
     "execution_count": 10,
     "metadata": {},
     "output_type": "execute_result"
    }
   ],
   "source": [
    "df"
   ]
  },
  {
   "cell_type": "code",
   "execution_count": 12,
   "id": "beginning-trial",
   "metadata": {},
   "outputs": [
    {
     "data": {
      "application/vnd.plotly.v1+json": {
       "config": {
        "plotlyServerURL": "https://plot.ly"
       },
       "data": [
        {
         "hoverinfo": "text+name",
         "line": {
          "shape": "hv"
         },
         "mode": "lines+markers",
         "name": "Arcadia",
         "type": "scatter",
         "x": [
          10000,
          20000,
          30000,
          40000,
          50000,
          60000,
          70000,
          80000,
          90000
         ],
         "y": [
          2000,
          2000,
          3000,
          3000,
          3000,
          3000,
          6000,
          6000,
          6000
         ]
        },
        {
         "hoverinfo": "text+name",
         "line": {
          "shape": "linear"
         },
         "mode": "lines+markers",
         "name": "California Minimum Wage Cost",
         "type": "scatter",
         "x": [
          10000,
          20000,
          30000,
          40000,
          50000,
          60000,
          70000,
          80000,
          90000
         ],
         "y": [
          4315.677658186562,
          4799.39432485323,
          6250.544324853229,
          7701.69432485323,
          9152.844324853231,
          10603.994324853229,
          12055.14432485323,
          13506.294324853232,
          14957.44432485323
         ]
        },
        {
         "hoverinfo": "text+name",
         "line": {
          "shape": "linear"
         },
         "mode": "lines+markers",
         "name": "USA Minimum Wage Cost",
         "type": "scatter",
         "x": [
          10000,
          20000,
          30000,
          40000,
          50000,
          60000,
          70000,
          80000,
          90000
         ],
         "y": [
          3437.6776581865624,
          3745.7943248532297,
          4670.144324853229,
          5594.49432485323,
          6518.84432485323,
          7443.194324853229,
          8367.544324853228,
          9291.89432485323,
          10216.244324853229
         ]
        }
       ],
       "layout": {
        "legend": {
         "font": {
          "size": 16
         },
         "traceorder": "reversed",
         "y": 0.5
        },
        "template": {
         "data": {
          "bar": [
           {
            "error_x": {
             "color": "#2a3f5f"
            },
            "error_y": {
             "color": "#2a3f5f"
            },
            "marker": {
             "line": {
              "color": "#E5ECF6",
              "width": 0.5
             },
             "pattern": {
              "fillmode": "overlay",
              "size": 10,
              "solidity": 0.2
             }
            },
            "type": "bar"
           }
          ],
          "barpolar": [
           {
            "marker": {
             "line": {
              "color": "#E5ECF6",
              "width": 0.5
             },
             "pattern": {
              "fillmode": "overlay",
              "size": 10,
              "solidity": 0.2
             }
            },
            "type": "barpolar"
           }
          ],
          "carpet": [
           {
            "aaxis": {
             "endlinecolor": "#2a3f5f",
             "gridcolor": "white",
             "linecolor": "white",
             "minorgridcolor": "white",
             "startlinecolor": "#2a3f5f"
            },
            "baxis": {
             "endlinecolor": "#2a3f5f",
             "gridcolor": "white",
             "linecolor": "white",
             "minorgridcolor": "white",
             "startlinecolor": "#2a3f5f"
            },
            "type": "carpet"
           }
          ],
          "choropleth": [
           {
            "colorbar": {
             "outlinewidth": 0,
             "ticks": ""
            },
            "type": "choropleth"
           }
          ],
          "contour": [
           {
            "colorbar": {
             "outlinewidth": 0,
             "ticks": ""
            },
            "colorscale": [
             [
              0,
              "#0d0887"
             ],
             [
              0.1111111111111111,
              "#46039f"
             ],
             [
              0.2222222222222222,
              "#7201a8"
             ],
             [
              0.3333333333333333,
              "#9c179e"
             ],
             [
              0.4444444444444444,
              "#bd3786"
             ],
             [
              0.5555555555555556,
              "#d8576b"
             ],
             [
              0.6666666666666666,
              "#ed7953"
             ],
             [
              0.7777777777777778,
              "#fb9f3a"
             ],
             [
              0.8888888888888888,
              "#fdca26"
             ],
             [
              1,
              "#f0f921"
             ]
            ],
            "type": "contour"
           }
          ],
          "contourcarpet": [
           {
            "colorbar": {
             "outlinewidth": 0,
             "ticks": ""
            },
            "type": "contourcarpet"
           }
          ],
          "heatmap": [
           {
            "colorbar": {
             "outlinewidth": 0,
             "ticks": ""
            },
            "colorscale": [
             [
              0,
              "#0d0887"
             ],
             [
              0.1111111111111111,
              "#46039f"
             ],
             [
              0.2222222222222222,
              "#7201a8"
             ],
             [
              0.3333333333333333,
              "#9c179e"
             ],
             [
              0.4444444444444444,
              "#bd3786"
             ],
             [
              0.5555555555555556,
              "#d8576b"
             ],
             [
              0.6666666666666666,
              "#ed7953"
             ],
             [
              0.7777777777777778,
              "#fb9f3a"
             ],
             [
              0.8888888888888888,
              "#fdca26"
             ],
             [
              1,
              "#f0f921"
             ]
            ],
            "type": "heatmap"
           }
          ],
          "heatmapgl": [
           {
            "colorbar": {
             "outlinewidth": 0,
             "ticks": ""
            },
            "colorscale": [
             [
              0,
              "#0d0887"
             ],
             [
              0.1111111111111111,
              "#46039f"
             ],
             [
              0.2222222222222222,
              "#7201a8"
             ],
             [
              0.3333333333333333,
              "#9c179e"
             ],
             [
              0.4444444444444444,
              "#bd3786"
             ],
             [
              0.5555555555555556,
              "#d8576b"
             ],
             [
              0.6666666666666666,
              "#ed7953"
             ],
             [
              0.7777777777777778,
              "#fb9f3a"
             ],
             [
              0.8888888888888888,
              "#fdca26"
             ],
             [
              1,
              "#f0f921"
             ]
            ],
            "type": "heatmapgl"
           }
          ],
          "histogram": [
           {
            "marker": {
             "pattern": {
              "fillmode": "overlay",
              "size": 10,
              "solidity": 0.2
             }
            },
            "type": "histogram"
           }
          ],
          "histogram2d": [
           {
            "colorbar": {
             "outlinewidth": 0,
             "ticks": ""
            },
            "colorscale": [
             [
              0,
              "#0d0887"
             ],
             [
              0.1111111111111111,
              "#46039f"
             ],
             [
              0.2222222222222222,
              "#7201a8"
             ],
             [
              0.3333333333333333,
              "#9c179e"
             ],
             [
              0.4444444444444444,
              "#bd3786"
             ],
             [
              0.5555555555555556,
              "#d8576b"
             ],
             [
              0.6666666666666666,
              "#ed7953"
             ],
             [
              0.7777777777777778,
              "#fb9f3a"
             ],
             [
              0.8888888888888888,
              "#fdca26"
             ],
             [
              1,
              "#f0f921"
             ]
            ],
            "type": "histogram2d"
           }
          ],
          "histogram2dcontour": [
           {
            "colorbar": {
             "outlinewidth": 0,
             "ticks": ""
            },
            "colorscale": [
             [
              0,
              "#0d0887"
             ],
             [
              0.1111111111111111,
              "#46039f"
             ],
             [
              0.2222222222222222,
              "#7201a8"
             ],
             [
              0.3333333333333333,
              "#9c179e"
             ],
             [
              0.4444444444444444,
              "#bd3786"
             ],
             [
              0.5555555555555556,
              "#d8576b"
             ],
             [
              0.6666666666666666,
              "#ed7953"
             ],
             [
              0.7777777777777778,
              "#fb9f3a"
             ],
             [
              0.8888888888888888,
              "#fdca26"
             ],
             [
              1,
              "#f0f921"
             ]
            ],
            "type": "histogram2dcontour"
           }
          ],
          "mesh3d": [
           {
            "colorbar": {
             "outlinewidth": 0,
             "ticks": ""
            },
            "type": "mesh3d"
           }
          ],
          "parcoords": [
           {
            "line": {
             "colorbar": {
              "outlinewidth": 0,
              "ticks": ""
             }
            },
            "type": "parcoords"
           }
          ],
          "pie": [
           {
            "automargin": true,
            "type": "pie"
           }
          ],
          "scatter": [
           {
            "marker": {
             "colorbar": {
              "outlinewidth": 0,
              "ticks": ""
             }
            },
            "type": "scatter"
           }
          ],
          "scatter3d": [
           {
            "line": {
             "colorbar": {
              "outlinewidth": 0,
              "ticks": ""
             }
            },
            "marker": {
             "colorbar": {
              "outlinewidth": 0,
              "ticks": ""
             }
            },
            "type": "scatter3d"
           }
          ],
          "scattercarpet": [
           {
            "marker": {
             "colorbar": {
              "outlinewidth": 0,
              "ticks": ""
             }
            },
            "type": "scattercarpet"
           }
          ],
          "scattergeo": [
           {
            "marker": {
             "colorbar": {
              "outlinewidth": 0,
              "ticks": ""
             }
            },
            "type": "scattergeo"
           }
          ],
          "scattergl": [
           {
            "marker": {
             "colorbar": {
              "outlinewidth": 0,
              "ticks": ""
             }
            },
            "type": "scattergl"
           }
          ],
          "scattermapbox": [
           {
            "marker": {
             "colorbar": {
              "outlinewidth": 0,
              "ticks": ""
             }
            },
            "type": "scattermapbox"
           }
          ],
          "scatterpolar": [
           {
            "marker": {
             "colorbar": {
              "outlinewidth": 0,
              "ticks": ""
             }
            },
            "type": "scatterpolar"
           }
          ],
          "scatterpolargl": [
           {
            "marker": {
             "colorbar": {
              "outlinewidth": 0,
              "ticks": ""
             }
            },
            "type": "scatterpolargl"
           }
          ],
          "scatterternary": [
           {
            "marker": {
             "colorbar": {
              "outlinewidth": 0,
              "ticks": ""
             }
            },
            "type": "scatterternary"
           }
          ],
          "surface": [
           {
            "colorbar": {
             "outlinewidth": 0,
             "ticks": ""
            },
            "colorscale": [
             [
              0,
              "#0d0887"
             ],
             [
              0.1111111111111111,
              "#46039f"
             ],
             [
              0.2222222222222222,
              "#7201a8"
             ],
             [
              0.3333333333333333,
              "#9c179e"
             ],
             [
              0.4444444444444444,
              "#bd3786"
             ],
             [
              0.5555555555555556,
              "#d8576b"
             ],
             [
              0.6666666666666666,
              "#ed7953"
             ],
             [
              0.7777777777777778,
              "#fb9f3a"
             ],
             [
              0.8888888888888888,
              "#fdca26"
             ],
             [
              1,
              "#f0f921"
             ]
            ],
            "type": "surface"
           }
          ],
          "table": [
           {
            "cells": {
             "fill": {
              "color": "#EBF0F8"
             },
             "line": {
              "color": "white"
             }
            },
            "header": {
             "fill": {
              "color": "#C8D4E3"
             },
             "line": {
              "color": "white"
             }
            },
            "type": "table"
           }
          ]
         },
         "layout": {
          "annotationdefaults": {
           "arrowcolor": "#2a3f5f",
           "arrowhead": 0,
           "arrowwidth": 1
          },
          "autotypenumbers": "strict",
          "coloraxis": {
           "colorbar": {
            "outlinewidth": 0,
            "ticks": ""
           }
          },
          "colorscale": {
           "diverging": [
            [
             0,
             "#8e0152"
            ],
            [
             0.1,
             "#c51b7d"
            ],
            [
             0.2,
             "#de77ae"
            ],
            [
             0.3,
             "#f1b6da"
            ],
            [
             0.4,
             "#fde0ef"
            ],
            [
             0.5,
             "#f7f7f7"
            ],
            [
             0.6,
             "#e6f5d0"
            ],
            [
             0.7,
             "#b8e186"
            ],
            [
             0.8,
             "#7fbc41"
            ],
            [
             0.9,
             "#4d9221"
            ],
            [
             1,
             "#276419"
            ]
           ],
           "sequential": [
            [
             0,
             "#0d0887"
            ],
            [
             0.1111111111111111,
             "#46039f"
            ],
            [
             0.2222222222222222,
             "#7201a8"
            ],
            [
             0.3333333333333333,
             "#9c179e"
            ],
            [
             0.4444444444444444,
             "#bd3786"
            ],
            [
             0.5555555555555556,
             "#d8576b"
            ],
            [
             0.6666666666666666,
             "#ed7953"
            ],
            [
             0.7777777777777778,
             "#fb9f3a"
            ],
            [
             0.8888888888888888,
             "#fdca26"
            ],
            [
             1,
             "#f0f921"
            ]
           ],
           "sequentialminus": [
            [
             0,
             "#0d0887"
            ],
            [
             0.1111111111111111,
             "#46039f"
            ],
            [
             0.2222222222222222,
             "#7201a8"
            ],
            [
             0.3333333333333333,
             "#9c179e"
            ],
            [
             0.4444444444444444,
             "#bd3786"
            ],
            [
             0.5555555555555556,
             "#d8576b"
            ],
            [
             0.6666666666666666,
             "#ed7953"
            ],
            [
             0.7777777777777778,
             "#fb9f3a"
            ],
            [
             0.8888888888888888,
             "#fdca26"
            ],
            [
             1,
             "#f0f921"
            ]
           ]
          },
          "colorway": [
           "#636efa",
           "#EF553B",
           "#00cc96",
           "#ab63fa",
           "#FFA15A",
           "#19d3f3",
           "#FF6692",
           "#B6E880",
           "#FF97FF",
           "#FECB52"
          ],
          "font": {
           "color": "#2a3f5f"
          },
          "geo": {
           "bgcolor": "white",
           "lakecolor": "white",
           "landcolor": "#E5ECF6",
           "showlakes": true,
           "showland": true,
           "subunitcolor": "white"
          },
          "hoverlabel": {
           "align": "left"
          },
          "hovermode": "closest",
          "mapbox": {
           "style": "light"
          },
          "paper_bgcolor": "white",
          "plot_bgcolor": "#E5ECF6",
          "polar": {
           "angularaxis": {
            "gridcolor": "white",
            "linecolor": "white",
            "ticks": ""
           },
           "bgcolor": "#E5ECF6",
           "radialaxis": {
            "gridcolor": "white",
            "linecolor": "white",
            "ticks": ""
           }
          },
          "scene": {
           "xaxis": {
            "backgroundcolor": "#E5ECF6",
            "gridcolor": "white",
            "gridwidth": 2,
            "linecolor": "white",
            "showbackground": true,
            "ticks": "",
            "zerolinecolor": "white"
           },
           "yaxis": {
            "backgroundcolor": "#E5ECF6",
            "gridcolor": "white",
            "gridwidth": 2,
            "linecolor": "white",
            "showbackground": true,
            "ticks": "",
            "zerolinecolor": "white"
           },
           "zaxis": {
            "backgroundcolor": "#E5ECF6",
            "gridcolor": "white",
            "gridwidth": 2,
            "linecolor": "white",
            "showbackground": true,
            "ticks": "",
            "zerolinecolor": "white"
           }
          },
          "shapedefaults": {
           "line": {
            "color": "#2a3f5f"
           }
          },
          "ternary": {
           "aaxis": {
            "gridcolor": "white",
            "linecolor": "white",
            "ticks": ""
           },
           "baxis": {
            "gridcolor": "white",
            "linecolor": "white",
            "ticks": ""
           },
           "bgcolor": "#E5ECF6",
           "caxis": {
            "gridcolor": "white",
            "linecolor": "white",
            "ticks": ""
           }
          },
          "title": {
           "x": 0.05
          },
          "xaxis": {
           "automargin": true,
           "gridcolor": "white",
           "linecolor": "white",
           "ticks": "",
           "title": {
            "standoff": 15
           },
           "zerolinecolor": "white",
           "zerolinewidth": 2
          },
          "yaxis": {
           "automargin": true,
           "gridcolor": "white",
           "linecolor": "white",
           "ticks": "",
           "title": {
            "standoff": 15
           },
           "zerolinecolor": "white",
           "zerolinewidth": 2
          }
         }
        },
        "title": {
         "text": "Monthly Cost of Ball Picking<br>California"
        },
        "xaxis": {
         "title": {
          "text": "Balls / Day"
         }
        },
        "yaxis": {
         "title": {
          "text": "USD"
         }
        }
       }
      },
      "text/html": [
       "<div>                            <div id=\"344ac43d-352b-477b-915d-70b48760dc5b\" class=\"plotly-graph-div\" style=\"height:525px; width:100%;\"></div>            <script type=\"text/javascript\">                require([\"plotly\"], function(Plotly) {                    window.PLOTLYENV=window.PLOTLYENV || {};                                    if (document.getElementById(\"344ac43d-352b-477b-915d-70b48760dc5b\")) {                    Plotly.newPlot(                        \"344ac43d-352b-477b-915d-70b48760dc5b\",                        [{\"line\":{\"shape\":\"hv\"},\"name\":\"Arcadia\",\"x\":[10000,20000,30000,40000,50000,60000,70000,80000,90000],\"y\":[2000,2000,3000,3000,3000,3000,6000,6000,6000],\"type\":\"scatter\",\"hoverinfo\":\"text+name\",\"mode\":\"lines+markers\"},{\"line\":{\"shape\":\"linear\"},\"name\":\"California Minimum Wage Cost\",\"x\":[10000,20000,30000,40000,50000,60000,70000,80000,90000],\"y\":[4315.677658186562,4799.39432485323,6250.544324853229,7701.69432485323,9152.844324853231,10603.994324853229,12055.14432485323,13506.294324853232,14957.44432485323],\"type\":\"scatter\",\"hoverinfo\":\"text+name\",\"mode\":\"lines+markers\"},{\"line\":{\"shape\":\"linear\"},\"name\":\"USA Minimum Wage Cost\",\"x\":[10000,20000,30000,40000,50000,60000,70000,80000,90000],\"y\":[3437.6776581865624,3745.7943248532297,4670.144324853229,5594.49432485323,6518.84432485323,7443.194324853229,8367.544324853228,9291.89432485323,10216.244324853229],\"type\":\"scatter\",\"hoverinfo\":\"text+name\",\"mode\":\"lines+markers\"}],                        {\"template\":{\"data\":{\"bar\":[{\"error_x\":{\"color\":\"#2a3f5f\"},\"error_y\":{\"color\":\"#2a3f5f\"},\"marker\":{\"line\":{\"color\":\"#E5ECF6\",\"width\":0.5},\"pattern\":{\"fillmode\":\"overlay\",\"size\":10,\"solidity\":0.2}},\"type\":\"bar\"}],\"barpolar\":[{\"marker\":{\"line\":{\"color\":\"#E5ECF6\",\"width\":0.5},\"pattern\":{\"fillmode\":\"overlay\",\"size\":10,\"solidity\":0.2}},\"type\":\"barpolar\"}],\"carpet\":[{\"aaxis\":{\"endlinecolor\":\"#2a3f5f\",\"gridcolor\":\"white\",\"linecolor\":\"white\",\"minorgridcolor\":\"white\",\"startlinecolor\":\"#2a3f5f\"},\"baxis\":{\"endlinecolor\":\"#2a3f5f\",\"gridcolor\":\"white\",\"linecolor\":\"white\",\"minorgridcolor\":\"white\",\"startlinecolor\":\"#2a3f5f\"},\"type\":\"carpet\"}],\"choropleth\":[{\"colorbar\":{\"outlinewidth\":0,\"ticks\":\"\"},\"type\":\"choropleth\"}],\"contour\":[{\"colorbar\":{\"outlinewidth\":0,\"ticks\":\"\"},\"colorscale\":[[0.0,\"#0d0887\"],[0.1111111111111111,\"#46039f\"],[0.2222222222222222,\"#7201a8\"],[0.3333333333333333,\"#9c179e\"],[0.4444444444444444,\"#bd3786\"],[0.5555555555555556,\"#d8576b\"],[0.6666666666666666,\"#ed7953\"],[0.7777777777777778,\"#fb9f3a\"],[0.8888888888888888,\"#fdca26\"],[1.0,\"#f0f921\"]],\"type\":\"contour\"}],\"contourcarpet\":[{\"colorbar\":{\"outlinewidth\":0,\"ticks\":\"\"},\"type\":\"contourcarpet\"}],\"heatmap\":[{\"colorbar\":{\"outlinewidth\":0,\"ticks\":\"\"},\"colorscale\":[[0.0,\"#0d0887\"],[0.1111111111111111,\"#46039f\"],[0.2222222222222222,\"#7201a8\"],[0.3333333333333333,\"#9c179e\"],[0.4444444444444444,\"#bd3786\"],[0.5555555555555556,\"#d8576b\"],[0.6666666666666666,\"#ed7953\"],[0.7777777777777778,\"#fb9f3a\"],[0.8888888888888888,\"#fdca26\"],[1.0,\"#f0f921\"]],\"type\":\"heatmap\"}],\"heatmapgl\":[{\"colorbar\":{\"outlinewidth\":0,\"ticks\":\"\"},\"colorscale\":[[0.0,\"#0d0887\"],[0.1111111111111111,\"#46039f\"],[0.2222222222222222,\"#7201a8\"],[0.3333333333333333,\"#9c179e\"],[0.4444444444444444,\"#bd3786\"],[0.5555555555555556,\"#d8576b\"],[0.6666666666666666,\"#ed7953\"],[0.7777777777777778,\"#fb9f3a\"],[0.8888888888888888,\"#fdca26\"],[1.0,\"#f0f921\"]],\"type\":\"heatmapgl\"}],\"histogram\":[{\"marker\":{\"pattern\":{\"fillmode\":\"overlay\",\"size\":10,\"solidity\":0.2}},\"type\":\"histogram\"}],\"histogram2d\":[{\"colorbar\":{\"outlinewidth\":0,\"ticks\":\"\"},\"colorscale\":[[0.0,\"#0d0887\"],[0.1111111111111111,\"#46039f\"],[0.2222222222222222,\"#7201a8\"],[0.3333333333333333,\"#9c179e\"],[0.4444444444444444,\"#bd3786\"],[0.5555555555555556,\"#d8576b\"],[0.6666666666666666,\"#ed7953\"],[0.7777777777777778,\"#fb9f3a\"],[0.8888888888888888,\"#fdca26\"],[1.0,\"#f0f921\"]],\"type\":\"histogram2d\"}],\"histogram2dcontour\":[{\"colorbar\":{\"outlinewidth\":0,\"ticks\":\"\"},\"colorscale\":[[0.0,\"#0d0887\"],[0.1111111111111111,\"#46039f\"],[0.2222222222222222,\"#7201a8\"],[0.3333333333333333,\"#9c179e\"],[0.4444444444444444,\"#bd3786\"],[0.5555555555555556,\"#d8576b\"],[0.6666666666666666,\"#ed7953\"],[0.7777777777777778,\"#fb9f3a\"],[0.8888888888888888,\"#fdca26\"],[1.0,\"#f0f921\"]],\"type\":\"histogram2dcontour\"}],\"mesh3d\":[{\"colorbar\":{\"outlinewidth\":0,\"ticks\":\"\"},\"type\":\"mesh3d\"}],\"parcoords\":[{\"line\":{\"colorbar\":{\"outlinewidth\":0,\"ticks\":\"\"}},\"type\":\"parcoords\"}],\"pie\":[{\"automargin\":true,\"type\":\"pie\"}],\"scatter\":[{\"marker\":{\"colorbar\":{\"outlinewidth\":0,\"ticks\":\"\"}},\"type\":\"scatter\"}],\"scatter3d\":[{\"line\":{\"colorbar\":{\"outlinewidth\":0,\"ticks\":\"\"}},\"marker\":{\"colorbar\":{\"outlinewidth\":0,\"ticks\":\"\"}},\"type\":\"scatter3d\"}],\"scattercarpet\":[{\"marker\":{\"colorbar\":{\"outlinewidth\":0,\"ticks\":\"\"}},\"type\":\"scattercarpet\"}],\"scattergeo\":[{\"marker\":{\"colorbar\":{\"outlinewidth\":0,\"ticks\":\"\"}},\"type\":\"scattergeo\"}],\"scattergl\":[{\"marker\":{\"colorbar\":{\"outlinewidth\":0,\"ticks\":\"\"}},\"type\":\"scattergl\"}],\"scattermapbox\":[{\"marker\":{\"colorbar\":{\"outlinewidth\":0,\"ticks\":\"\"}},\"type\":\"scattermapbox\"}],\"scatterpolar\":[{\"marker\":{\"colorbar\":{\"outlinewidth\":0,\"ticks\":\"\"}},\"type\":\"scatterpolar\"}],\"scatterpolargl\":[{\"marker\":{\"colorbar\":{\"outlinewidth\":0,\"ticks\":\"\"}},\"type\":\"scatterpolargl\"}],\"scatterternary\":[{\"marker\":{\"colorbar\":{\"outlinewidth\":0,\"ticks\":\"\"}},\"type\":\"scatterternary\"}],\"surface\":[{\"colorbar\":{\"outlinewidth\":0,\"ticks\":\"\"},\"colorscale\":[[0.0,\"#0d0887\"],[0.1111111111111111,\"#46039f\"],[0.2222222222222222,\"#7201a8\"],[0.3333333333333333,\"#9c179e\"],[0.4444444444444444,\"#bd3786\"],[0.5555555555555556,\"#d8576b\"],[0.6666666666666666,\"#ed7953\"],[0.7777777777777778,\"#fb9f3a\"],[0.8888888888888888,\"#fdca26\"],[1.0,\"#f0f921\"]],\"type\":\"surface\"}],\"table\":[{\"cells\":{\"fill\":{\"color\":\"#EBF0F8\"},\"line\":{\"color\":\"white\"}},\"header\":{\"fill\":{\"color\":\"#C8D4E3\"},\"line\":{\"color\":\"white\"}},\"type\":\"table\"}]},\"layout\":{\"annotationdefaults\":{\"arrowcolor\":\"#2a3f5f\",\"arrowhead\":0,\"arrowwidth\":1},\"autotypenumbers\":\"strict\",\"coloraxis\":{\"colorbar\":{\"outlinewidth\":0,\"ticks\":\"\"}},\"colorscale\":{\"diverging\":[[0,\"#8e0152\"],[0.1,\"#c51b7d\"],[0.2,\"#de77ae\"],[0.3,\"#f1b6da\"],[0.4,\"#fde0ef\"],[0.5,\"#f7f7f7\"],[0.6,\"#e6f5d0\"],[0.7,\"#b8e186\"],[0.8,\"#7fbc41\"],[0.9,\"#4d9221\"],[1,\"#276419\"]],\"sequential\":[[0.0,\"#0d0887\"],[0.1111111111111111,\"#46039f\"],[0.2222222222222222,\"#7201a8\"],[0.3333333333333333,\"#9c179e\"],[0.4444444444444444,\"#bd3786\"],[0.5555555555555556,\"#d8576b\"],[0.6666666666666666,\"#ed7953\"],[0.7777777777777778,\"#fb9f3a\"],[0.8888888888888888,\"#fdca26\"],[1.0,\"#f0f921\"]],\"sequentialminus\":[[0.0,\"#0d0887\"],[0.1111111111111111,\"#46039f\"],[0.2222222222222222,\"#7201a8\"],[0.3333333333333333,\"#9c179e\"],[0.4444444444444444,\"#bd3786\"],[0.5555555555555556,\"#d8576b\"],[0.6666666666666666,\"#ed7953\"],[0.7777777777777778,\"#fb9f3a\"],[0.8888888888888888,\"#fdca26\"],[1.0,\"#f0f921\"]]},\"colorway\":[\"#636efa\",\"#EF553B\",\"#00cc96\",\"#ab63fa\",\"#FFA15A\",\"#19d3f3\",\"#FF6692\",\"#B6E880\",\"#FF97FF\",\"#FECB52\"],\"font\":{\"color\":\"#2a3f5f\"},\"geo\":{\"bgcolor\":\"white\",\"lakecolor\":\"white\",\"landcolor\":\"#E5ECF6\",\"showlakes\":true,\"showland\":true,\"subunitcolor\":\"white\"},\"hoverlabel\":{\"align\":\"left\"},\"hovermode\":\"closest\",\"mapbox\":{\"style\":\"light\"},\"paper_bgcolor\":\"white\",\"plot_bgcolor\":\"#E5ECF6\",\"polar\":{\"angularaxis\":{\"gridcolor\":\"white\",\"linecolor\":\"white\",\"ticks\":\"\"},\"bgcolor\":\"#E5ECF6\",\"radialaxis\":{\"gridcolor\":\"white\",\"linecolor\":\"white\",\"ticks\":\"\"}},\"scene\":{\"xaxis\":{\"backgroundcolor\":\"#E5ECF6\",\"gridcolor\":\"white\",\"gridwidth\":2,\"linecolor\":\"white\",\"showbackground\":true,\"ticks\":\"\",\"zerolinecolor\":\"white\"},\"yaxis\":{\"backgroundcolor\":\"#E5ECF6\",\"gridcolor\":\"white\",\"gridwidth\":2,\"linecolor\":\"white\",\"showbackground\":true,\"ticks\":\"\",\"zerolinecolor\":\"white\"},\"zaxis\":{\"backgroundcolor\":\"#E5ECF6\",\"gridcolor\":\"white\",\"gridwidth\":2,\"linecolor\":\"white\",\"showbackground\":true,\"ticks\":\"\",\"zerolinecolor\":\"white\"}},\"shapedefaults\":{\"line\":{\"color\":\"#2a3f5f\"}},\"ternary\":{\"aaxis\":{\"gridcolor\":\"white\",\"linecolor\":\"white\",\"ticks\":\"\"},\"baxis\":{\"gridcolor\":\"white\",\"linecolor\":\"white\",\"ticks\":\"\"},\"bgcolor\":\"#E5ECF6\",\"caxis\":{\"gridcolor\":\"white\",\"linecolor\":\"white\",\"ticks\":\"\"}},\"title\":{\"x\":0.05},\"xaxis\":{\"automargin\":true,\"gridcolor\":\"white\",\"linecolor\":\"white\",\"ticks\":\"\",\"title\":{\"standoff\":15},\"zerolinecolor\":\"white\",\"zerolinewidth\":2},\"yaxis\":{\"automargin\":true,\"gridcolor\":\"white\",\"linecolor\":\"white\",\"ticks\":\"\",\"title\":{\"standoff\":15},\"zerolinecolor\":\"white\",\"zerolinewidth\":2}}},\"legend\":{\"font\":{\"size\":16},\"y\":0.5,\"traceorder\":\"reversed\"},\"title\":{\"text\":\"Monthly Cost of Ball Picking<br>California\"},\"xaxis\":{\"title\":{\"text\":\"Balls / Day\"}},\"yaxis\":{\"title\":{\"text\":\"USD\"}}},                        {\"responsive\": true}                    ).then(function(){\n",
       "                            \n",
       "var gd = document.getElementById('344ac43d-352b-477b-915d-70b48760dc5b');\n",
       "var x = new MutationObserver(function (mutations, observer) {{\n",
       "        var display = window.getComputedStyle(gd).display;\n",
       "        if (!display || display === 'none') {{\n",
       "            console.log([gd, 'removed!']);\n",
       "            Plotly.purge(gd);\n",
       "            observer.disconnect();\n",
       "        }}\n",
       "}});\n",
       "\n",
       "// Listen for the removal of the full notebook cells\n",
       "var notebookContainer = gd.closest('#notebook-container');\n",
       "if (notebookContainer) {{\n",
       "    x.observe(notebookContainer, {childList: true});\n",
       "}}\n",
       "\n",
       "// Listen for the clearing of the current output cell\n",
       "var outputEl = gd.closest('.output');\n",
       "if (outputEl) {{\n",
       "    x.observe(outputEl, {childList: true});\n",
       "}}\n",
       "\n",
       "                        })                };                });            </script>        </div>"
      ]
     },
     "metadata": {},
     "output_type": "display_data"
    }
   ],
   "source": [
    "import plotly.graph_objects as go\n",
    "fig = go.Figure()\n",
    "fig.add_trace(go.Scatter(x=df['balls'], y=df['arcadia_cost'], name=\"Arcadia\",\n",
    "                    line_shape='hv'))\n",
    "\n",
    "fig.add_trace(go.Scatter(x=df['balls'], y=df['ca_manual_cost'], name=\"California Minimum Wage Cost\",\n",
    "                    line_shape='linear'))\n",
    "fig.add_trace(go.Scatter(x=df['balls'], y=df['usa_manual_cost'], name=\"USA Minimum Wage Cost\",\n",
    "                    line_shape='linear'))\n",
    "\n",
    "fig.update_traces(hoverinfo='text+name', mode='lines+markers')\n",
    "fig.update_layout(legend=dict(y=0.5, traceorder='reversed', font_size=16))\n",
    "fig.update_layout(title='Monthly Cost of Ball Picking<br>California',\n",
    "                   xaxis_title='Balls / Day',\n",
    "                   yaxis_title='USD')\n",
    "fig.show()"
   ]
  },
  {
   "cell_type": "markdown",
   "id": "protecting-declaration",
   "metadata": {},
   "source": [
    "### Arcadia Benefits\n",
    "Arcadia's autonomous vehicle technology can help automate driving range operations and provide significant benefits to practice facility operators:\n",
    "\n",
    "- **Eliminate Labor**: the ball picking job goes away, labor is still needed to wash the balls, but proper range design can make this a once per day task.\n",
    "- **Eliminate Tractor Cost / Maintenance**: Arcadia provides the Robot as a Service (RaaS). This means that Arcadia provides the hardware and is responsibility for maintenance and service.\n",
    "- **Little or No Down Time**: Arcadia provides a Service Level Agreement that provides a high level of uptime.  Arcadia's tractor runs off the cloud. By continuously monitoring the tractor, Arcadia can detect issues and dispatch a crew to provide field service when needed."
   ]
  },
  {
   "cell_type": "markdown",
   "id": "alive-perspective",
   "metadata": {},
   "source": [
    "## Full Capture of Economic Benefit\n",
    "\n",
    "In order to optimize the economic performance of the driving range, a few best practices should be followed.  Adopting an automated ball picking solution is the perfect time to rethink the workflow of the driving range operations.  Arcadia's **Applications Engineers** can sit with you to help design the most efficient workflow that will maximize the impact of automation on your operation.\n",
    "\n",
    "## Book A Demo\n",
    "\n",
    "To book a demo please get in touch with Arcadia Tractor by sending an email to: info@arcadiatractor.com."
   ]
  },
  {
   "cell_type": "code",
   "execution_count": null,
   "id": "rising-nature",
   "metadata": {},
   "outputs": [],
   "source": []
  }
 ],
 "metadata": {
  "kernelspec": {
   "display_name": "Python 3",
   "language": "python",
   "name": "python3"
  },
  "language_info": {
   "codemirror_mode": {
    "name": "ipython",
    "version": 3
   },
   "file_extension": ".py",
   "mimetype": "text/x-python",
   "name": "python",
   "nbconvert_exporter": "python",
   "pygments_lexer": "ipython3",
   "version": "3.8.8"
  }
 },
 "nbformat": 4,
 "nbformat_minor": 5
}
