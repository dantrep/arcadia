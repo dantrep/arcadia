{
 "cells": [
  {
   "cell_type": "markdown",
   "id": "likely-nickel",
   "metadata": {},
   "source": [
    "# Autonomous Vehicle Learning Curve Estimate\n",
    "\n",
    "This notebook estimates the learning curve for unstructured terrain autonomous vehicles.  The analysis uses the incident rate for on-road autononmous vehicles to estimate the incident rate for off-road AVs.\n",
    "\n",
    "The on-road AV data is made public by the California DMV."
   ]
  },
  {
   "cell_type": "code",
   "execution_count": 3,
   "id": "cardiac-depression",
   "metadata": {},
   "outputs": [],
   "source": [
    "import os\n",
    "import numpy as np\n",
    "import pandas as pd\n",
    "from scipy import stats\n",
    "import plotly.express as px\n",
    "import plotly.graph_objects as go\n",
    "from IPython.display import Image\n",
    "from IPython.core.display import display, HTML"
   ]
  },
  {
   "cell_type": "markdown",
   "id": "going-tension",
   "metadata": {},
   "source": [
    "## The Learning Curve\n",
    "\n",
    "We can estimate the learning curve (i.e. the number of incidents per hour driven in the field) from the DMV data.  The following chart summarizes the miles driven by AV manufacturer in 2020 along with the miles driven between incidents."
   ]
  },
  {
   "cell_type": "code",
   "execution_count": 2,
   "id": "designed-layer",
   "metadata": {},
   "outputs": [
    {
     "ename": "NameError",
     "evalue": "name 'Image' is not defined",
     "output_type": "error",
     "traceback": [
      "\u001b[0;31m---------------------------------------------------------------------------\u001b[0m",
      "\u001b[0;31mNameError\u001b[0m                                 Traceback (most recent call last)",
      "\u001b[0;32m<ipython-input-2-c4a7527597da>\u001b[0m in \u001b[0;36m<module>\u001b[0;34m\u001b[0m\n\u001b[1;32m      1\u001b[0m \u001b[0murl\u001b[0m \u001b[0;34m=\u001b[0m\u001b[0;34m'https://cdn.statcdn.com/Infographic/images/normal/17144.jpeg'\u001b[0m\u001b[0;34m\u001b[0m\u001b[0;34m\u001b[0m\u001b[0m\n\u001b[0;32m----> 2\u001b[0;31m \u001b[0mImage\u001b[0m\u001b[0;34m(\u001b[0m\u001b[0murl\u001b[0m\u001b[0;34m=\u001b[0m \u001b[0murl\u001b[0m\u001b[0;34m)\u001b[0m\u001b[0;34m\u001b[0m\u001b[0;34m\u001b[0m\u001b[0m\n\u001b[0m",
      "\u001b[0;31mNameError\u001b[0m: name 'Image' is not defined"
     ]
    }
   ],
   "source": [
    "url ='https://cdn.statcdn.com/Infographic/images/normal/17144.jpeg'\n",
    "Image(url= url)"
   ]
  },
  {
   "cell_type": "markdown",
   "id": "burning-photographer",
   "metadata": {},
   "source": [
    "### Data Cleansing\n",
    "\n",
    "We can remove the highest performing AV makers from the mix. The Chinese AV makers in particular are probably gaining experience outside of California and this presents unrealistic intervention rates."
   ]
  },
  {
   "cell_type": "code",
   "execution_count": null,
   "id": "eight-blond",
   "metadata": {},
   "outputs": [],
   "source": [
    "# worst case incidents / mile driven\n",
    "miles = [#(628839, 29945),\n",
    "         (770049, 28520),\n",
    "         (225496, 10738),\n",
    "        (55370,5034),\n",
    "         #(40734,20367),\n",
    "         #(21037,10519),\n",
    "         (13014,6507),\n",
    "         (10401,5201),\n",
    "        ]\n",
    "miles = sorted(miles, key=lambda k:k[0])\n",
    "df = pd.DataFrame(miles, columns=['miles','miles_between_interventions'])"
   ]
  },
  {
   "cell_type": "markdown",
   "id": "least-folder",
   "metadata": {},
   "source": [
    "# Assumption\n",
    "\n",
    "We can assume an average speed of 15 mph to translate the miles driven into hours of operation (a more relevant metric for off-road vehicles given the reduced speed).  From the hours of operation, we can compute the mean time between failures (MTBF):\n"
   ]
  },
  {
   "cell_type": "code",
   "execution_count": null,
   "id": "duplicate-scene",
   "metadata": {},
   "outputs": [],
   "source": [
    "df['hours'] = df['miles'] / 15\n",
    "df['mtbf'] = df['miles_between_interventions'] / 15\n",
    "df"
   ]
  },
  {
   "cell_type": "code",
   "execution_count": null,
   "id": "august-compression",
   "metadata": {},
   "outputs": [],
   "source": [
    "fig = px.scatter(df, \n",
    "                 x='hours',\n",
    "                 y='mtbf',\n",
    "                 trendline=\"ols\",\n",
    "                 title='Mean Time Between Failures (Human Interventions)<br>vs Hours Driven in the Field'\n",
    "                )\n",
    "fig.show()\n",
    "results = px.get_trendline_results(fig)\n",
    "#results.iloc[0].values[0].summary()"
   ]
  },
  {
   "cell_type": "markdown",
   "id": "present-fetish",
   "metadata": {},
   "source": [
    "## Learning Curve Equation\n",
    "\n",
    "From the above data, we get the following learning curve equation:\n",
    "\n",
    "$$\n",
    "MTBF = .03 \\times h + 307\n",
    "$$\n",
    "\n",
    "where:  \n",
    "$MTBF$ Mean time between failure (or human interventions)  \n",
    "$h$ is the cumulative number hours of experience"
   ]
  },
  {
   "cell_type": "code",
   "execution_count": null,
   "id": "infectious-vegetable",
   "metadata": {},
   "outputs": [],
   "source": [
    "reg = stats.linregress(x=df['hours'],y=df['mtbf'])\n",
    "reg"
   ]
  },
  {
   "cell_type": "markdown",
   "id": "animal-invention",
   "metadata": {},
   "source": [
    "## Learning curve\n",
    "\n",
    "Let's assumes the following number of tractors will ship over time:\n",
    "\n",
    "Year | count\n",
    "--|--\n",
    "2022 | 1\n",
    "2023 | 33\n",
    "2024 | 161\n",
    "2025 | 585\n",
    "2026 | 1585\n",
    "2027 | 6000\n",
    "2028 | 15000"
   ]
  },
  {
   "cell_type": "markdown",
   "id": "efficient-letters",
   "metadata": {},
   "source": [
    "The following is an estimate of the cost per tractor unit:"
   ]
  },
  {
   "cell_type": "code",
   "execution_count": null,
   "id": "friendly-killing",
   "metadata": {},
   "outputs": [],
   "source": [
    "tractor_count = [2, 33, 161, 585, 1585, 6000,15000]\n",
    "tractor_cost = [35000,29000,23000,20000,17500,12500,9500]"
   ]
  },
  {
   "cell_type": "markdown",
   "id": "dated-racing",
   "metadata": {},
   "source": [
    "### Assumptions\n",
    "\n",
    "Let's assume an autonomous tractor in production has the following operating profile:\n",
    "\n",
    "- hours per day: 8\n",
    "- days per week: 7\n",
    "- unit forecast (see above)\n",
    "- the opex is ~ 300 USD per month or 3,600 USD / year"
   ]
  },
  {
   "cell_type": "code",
   "execution_count": null,
   "id": "premier-idaho",
   "metadata": {},
   "outputs": [],
   "source": []
  },
  {
   "cell_type": "code",
   "execution_count": null,
   "id": "cognitive-likelihood",
   "metadata": {},
   "outputs": [],
   "source": [
    "cum_count = 0\n",
    "cum_hours = 0\n",
    "learnings = 0\n",
    "rpt = []\n",
    "for i,n in enumerate(tractor_count):\n",
    "    cost = tractor_cost[i]\n",
    "    cum_count += int((n / 2))\n",
    "    hours = cum_count * 8 * 52 * 7\n",
    "    cum_hours += hours\n",
    "    \n",
    "    mtbf = reg.slope * cum_hours + reg.intercept\n",
    "    learnings += hours / mtbf\n",
    "    opex = 3600\n",
    "    r= {'year':i + 2022,\n",
    "        'count':n,\n",
    "        'cum_count':cum_count,\n",
    "        'hours': hours,\n",
    "        'cum_hours': cum_hours,\n",
    "        'mtbf': mtbf,\n",
    "        'learnings': int(learnings),\n",
    "        'cost_per_tractor':cost,\n",
    "        'capex': cost * n,\n",
    "        'opex': opex,\n",
    "}\n",
    "    rpt += [r]\n",
    "a = pd.DataFrame(rpt)\n",
    "a"
   ]
  },
  {
   "cell_type": "code",
   "execution_count": null,
   "id": "wired-battery",
   "metadata": {},
   "outputs": [],
   "source": [
    "# Cost of Operation"
   ]
  },
  {
   "cell_type": "code",
   "execution_count": null,
   "id": "paperback-platform",
   "metadata": {},
   "outputs": [],
   "source": [
    "a['investment'] = a['capex'] + a['opex']\n",
    "a['cum_investment'] = a['investment'].cumsum()\n",
    "a['cost_per_learning'] = a['cum_investment'] / a['learnings']\n",
    "a"
   ]
  },
  {
   "cell_type": "code",
   "execution_count": null,
   "id": "flexible-soundtrack",
   "metadata": {},
   "outputs": [],
   "source": []
  },
  {
   "cell_type": "markdown",
   "id": "external-stroke",
   "metadata": {},
   "source": [
    "## Conclusions\n",
    "\n",
    "As Arcadia ships more units in the field it gains operating hours and over time it runs into field issues (i.e. learnings) at a rate prescribed by the learning curve.  As the frequency of incidents decreases, each learning becomes more valuable:"
   ]
  },
  {
   "cell_type": "code",
   "execution_count": null,
   "id": "electrical-shaft",
   "metadata": {},
   "outputs": [],
   "source": [
    "fig = px.bar(a, \n",
    "             x='year', \n",
    "             y='cost_per_learning',\n",
    "             title='Avg Cost per New Learning over Time').show()"
   ]
  },
  {
   "cell_type": "code",
   "execution_count": null,
   "id": "integrated-resort",
   "metadata": {},
   "outputs": [],
   "source": [
    "# cost to catch up"
   ]
  },
  {
   "cell_type": "code",
   "execution_count": null,
   "id": "backed-robin",
   "metadata": {},
   "outputs": [],
   "source": []
  },
  {
   "cell_type": "markdown",
   "id": "celtic-reply",
   "metadata": {},
   "source": [
    "### Cost to Catch Up\n",
    "\n",
    "As Arcadia gains experience in the field, it becomes more and more difficult for other firms to catch up.  If we estimate that a competitor trying to pivot would take 18 to 24 months to effect the pivot, the cost of catching up (excluding the R&D investment) is shown below. This cost includes the CapEx to build tractors and the Opex to run tractors in the field.  This number also assumes competitors have the same learning curve as Arcadia."
   ]
  },
  {
   "cell_type": "code",
   "execution_count": null,
   "id": "tracked-casino",
   "metadata": {},
   "outputs": [],
   "source": [
    "a['cost_to_catch_up'] = a['cum_investment'].shift(-2)\n",
    "a['best_case_competitor_hours'] = a['cum_hours'].shift(2)\n",
    "fig = px.bar(a.head(5), \n",
    "             x='year', \n",
    "             y='cost_to_catch_up',\n",
    "             title='Field Investment Required (USD) to Catch Up').show()"
   ]
  },
  {
   "cell_type": "markdown",
   "id": "stupid-painting",
   "metadata": {},
   "source": [
    "### Data Advantage\n",
    "\n",
    "In 2023, Arcadia will have 300k hours of field experience before competitors are even out of the gate.  To catch-up, competitors would have to:\n",
    "\n",
    "1. pursuade partners willing to spend time running a new solution (a difficult task when a working solution is already available), and\n",
    "2. invest $50M in field operations\n",
    "\n",
    "The competitive gap would go up non-linearly -- i.e. every year the number of hours required goes up exponentially."
   ]
  },
  {
   "cell_type": "code",
   "execution_count": null,
   "id": "aggressive-morris",
   "metadata": {},
   "outputs": [],
   "source": [
    "fig = go.Figure()\n",
    "# Create and style traces\n",
    "fig.add_trace(go.Scatter(x=a['year'], y=a['cum_hours'], name='Arcadia',\n",
    "                         line=dict(color='royalblue', width=4)))\n",
    "\n",
    "fig.add_trace(go.Scatter(x=a['year'], y=a['best_case_competitor_hours'], name='Others',\n",
    "                         line=dict(color='firebrick', width=4)))\n",
    "\n",
    "# Edit the layout\n",
    "fig.update_layout(title='Unstructured Terrain<br>Operating Hours',\n",
    "                   xaxis_title='Year',\n",
    "                   yaxis_title='Field Operating Hours')\n",
    "\n",
    "\n",
    "fig.show()"
   ]
  },
  {
   "cell_type": "code",
   "execution_count": null,
   "id": "surface-express",
   "metadata": {},
   "outputs": [],
   "source": []
  }
 ],
 "metadata": {
  "kernelspec": {
   "display_name": "Python 3",
   "language": "python",
   "name": "python3"
  },
  "language_info": {
   "codemirror_mode": {
    "name": "ipython",
    "version": 3
   },
   "file_extension": ".py",
   "mimetype": "text/x-python",
   "name": "python",
   "nbconvert_exporter": "python",
   "pygments_lexer": "ipython3",
   "version": "3.8.12"
  }
 },
 "nbformat": 4,
 "nbformat_minor": 5
}
